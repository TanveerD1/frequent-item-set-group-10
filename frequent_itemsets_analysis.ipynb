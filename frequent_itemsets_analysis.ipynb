{
 "cells": [
  {
   "cell_type": "markdown",
   "id": "7844b2bb",
   "metadata": {},
   "source": [
    "### Imports"
   ]
  },
  {
   "cell_type": "code",
   "execution_count": null,
   "id": "90855b0f",
   "metadata": {},
   "outputs": [],
   "source": [
    "import pandas as pd\n",
    "import random\n",
    "import os\n",
    "from mlxtend.preprocessing import TransactionEncoder\n",
    "from mlxtend.frequent_patterns import apriori\n"
   ]
  },
  {
   "cell_type": "markdown",
   "id": "00b8abf3",
   "metadata": {},
   "source": []
  },
  {
   "cell_type": "markdown",
   "id": "53c9c99a",
   "metadata": {},
   "source": [
    "# 1. Simulating Transaction Data"
   ]
  },
  {
   "cell_type": "code",
   "execution_count": 6,
   "id": "f381621a",
   "metadata": {},
   "outputs": [],
   "source": [
    "# Pool of 30 Supermarket Items\n",
    "items = [\n",
    "    \"milk\", \"bread\", \"butter\", \"eggs\", \"cheese\", \"apples\", \"bananas\", \"chicken\", \"beef\", \"pasta\",\n",
    "    \"rice\", \"flour\", \"sugar\", \"salt\", \"pepper\", \"onions\", \"tomatoes\", \"carrots\", \"potatoes\", \"cereal\",\n",
    "    \"oil\", \"juice\", \"yogurt\", \"tea\", \"coffee\", \"chocolate\", \"cookies\", \"soap\", \"shampoo\", \"toothpaste\"\n",
    "]"
   ]
  },
  {
   "cell_type": "markdown",
   "id": "7239b527",
   "metadata": {},
   "source": [
    "### Generate Transaction Data, 3k transactions, 30 with 2-7 items each\n",
    "setting seed as 69 for reproducibility\n"
   ]
  },
  {
   "cell_type": "code",
   "execution_count": 7,
   "id": "a5b44f6e",
   "metadata": {},
   "outputs": [],
   "source": [
    "random.seed(69)  \n",
    "transactions = []\n",
    "for _ in range(3000):\n",
    "    num_items = random.randint(2, 7)\n",
    "    transaction = random.sample(items, num_items)\n",
    "    transactions.append(transaction)\n"
   ]
  },
  {
   "cell_type": "markdown",
   "id": "8ddc27bc",
   "metadata": {},
   "source": [
    "### Save raw Transactions to CSV"
   ]
  },
  {
   "cell_type": "code",
   "execution_count": 8,
   "id": "b50e9166",
   "metadata": {},
   "outputs": [],
   "source": [
    "transactions_df = pd.DataFrame(transactions)\n",
    "transactions_df.to_csv('data/supermarket_transactions.csv', index=False)\n"
   ]
  },
  {
   "cell_type": "markdown",
   "id": "45568fe7",
   "metadata": {},
   "source": [
    "# 2. Preprocessing Data: Using One-Hot Encoding"
   ]
  },
  {
   "cell_type": "code",
   "execution_count": 9,
   "id": "7cdc6f9a",
   "metadata": {},
   "outputs": [
    {
     "ename": "KeyError",
     "evalue": "'Transaction'",
     "output_type": "error",
     "traceback": [
      "\u001b[0;31m---------------------------------------------------------------------------\u001b[0m",
      "\u001b[0;31mKeyError\u001b[0m                                  Traceback (most recent call last)",
      "Cell \u001b[0;32mIn[9], line 2\u001b[0m\n\u001b[1;32m      1\u001b[0m \u001b[38;5;66;03m# Preparing transaction data\u001b[39;00m\n\u001b[0;32m----> 2\u001b[0m transaction_list \u001b[38;5;241m=\u001b[39m transactions_df[\u001b[38;5;124m'\u001b[39m\u001b[38;5;124mTransaction\u001b[39m\u001b[38;5;124m'\u001b[39m]\u001b[38;5;241m.\u001b[39mapply(\u001b[38;5;28meval\u001b[39m)\u001b[38;5;241m.\u001b[39mtolist() \n\u001b[1;32m      4\u001b[0m \u001b[38;5;66;03m# One-hot encode transactions\u001b[39;00m\n\u001b[1;32m      5\u001b[0m encoder \u001b[38;5;241m=\u001b[39m TransactionEncoder()\n",
      "File \u001b[0;32m~/anaconda3/lib/python3.11/site-packages/pandas/core/frame.py:3807\u001b[0m, in \u001b[0;36mDataFrame.__getitem__\u001b[0;34m(self, key)\u001b[0m\n\u001b[1;32m   3805\u001b[0m \u001b[38;5;28;01mif\u001b[39;00m \u001b[38;5;28mself\u001b[39m\u001b[38;5;241m.\u001b[39mcolumns\u001b[38;5;241m.\u001b[39mnlevels \u001b[38;5;241m>\u001b[39m \u001b[38;5;241m1\u001b[39m:\n\u001b[1;32m   3806\u001b[0m     \u001b[38;5;28;01mreturn\u001b[39;00m \u001b[38;5;28mself\u001b[39m\u001b[38;5;241m.\u001b[39m_getitem_multilevel(key)\n\u001b[0;32m-> 3807\u001b[0m indexer \u001b[38;5;241m=\u001b[39m \u001b[38;5;28mself\u001b[39m\u001b[38;5;241m.\u001b[39mcolumns\u001b[38;5;241m.\u001b[39mget_loc(key)\n\u001b[1;32m   3808\u001b[0m \u001b[38;5;28;01mif\u001b[39;00m is_integer(indexer):\n\u001b[1;32m   3809\u001b[0m     indexer \u001b[38;5;241m=\u001b[39m [indexer]\n",
      "File \u001b[0;32m~/anaconda3/lib/python3.11/site-packages/pandas/core/indexes/range.py:395\u001b[0m, in \u001b[0;36mRangeIndex.get_loc\u001b[0;34m(self, key, method, tolerance)\u001b[0m\n\u001b[1;32m    393\u001b[0m             \u001b[38;5;28;01mraise\u001b[39;00m \u001b[38;5;167;01mKeyError\u001b[39;00m(key) \u001b[38;5;28;01mfrom\u001b[39;00m \u001b[38;5;21;01merr\u001b[39;00m\n\u001b[1;32m    394\u001b[0m     \u001b[38;5;28mself\u001b[39m\u001b[38;5;241m.\u001b[39m_check_indexing_error(key)\n\u001b[0;32m--> 395\u001b[0m     \u001b[38;5;28;01mraise\u001b[39;00m \u001b[38;5;167;01mKeyError\u001b[39;00m(key)\n\u001b[1;32m    396\u001b[0m \u001b[38;5;28;01mreturn\u001b[39;00m \u001b[38;5;28msuper\u001b[39m()\u001b[38;5;241m.\u001b[39mget_loc(key, method\u001b[38;5;241m=\u001b[39mmethod, tolerance\u001b[38;5;241m=\u001b[39mtolerance)\n",
      "\u001b[0;31mKeyError\u001b[0m: 'Transaction'"
     ]
    }
   ],
   "source": [
    "# Preparing transaction data\n",
    "transaction_list = transactions_df['Transaction'].apply(eval).tolist() \n",
    "\n",
    "# One-hot encode transactions\n",
    "encoder = TransactionEncoder()\n",
    "encoded_array = encoder.fit_transform(transaction_list)\n",
    "onehot_df = pd.DataFrame(encoded_array, columns=encoder.columns_)\n"
   ]
  },
  {
   "cell_type": "markdown",
   "id": "cc2e7c33",
   "metadata": {},
   "source": [
    "# 3. Genreating Frequent Itemsets with Apriori from the previous Week"
   ]
  },
  {
   "cell_type": "code",
   "execution_count": null,
   "id": "38f18d8a",
   "metadata": {},
   "outputs": [
    {
     "ename": "TypeError",
     "evalue": "apriori() got an unexpected keyword argument 'min_len'",
     "output_type": "error",
     "traceback": [
      "\u001b[0;31m---------------------------------------------------------------------------\u001b[0m",
      "\u001b[0;31mTypeError\u001b[0m                                 Traceback (most recent call last)",
      "Cell \u001b[0;32mIn[15], line 3\u001b[0m\n\u001b[1;32m      1\u001b[0m \u001b[38;5;66;03m# [Student: Alice] Find frequent itemsets with min_support=0.05\u001b[39;00m\n\u001b[1;32m      2\u001b[0m \u001b[38;5;66;03m# We'll set min_len=2 to only get itemsets with 2+ items\u001b[39;00m\n\u001b[0;32m----> 3\u001b[0m frequent_itemsets \u001b[38;5;241m=\u001b[39m apriori(one_hot_df, min_support\u001b[38;5;241m=\u001b[39m\u001b[38;5;241m0.05\u001b[39m, use_colnames\u001b[38;5;241m=\u001b[39m\u001b[38;5;28;01mTrue\u001b[39;00m, min_len\u001b[38;5;241m=\u001b[39m\u001b[38;5;241m2\u001b[39m)\n\u001b[1;32m      5\u001b[0m \u001b[38;5;66;03m# [Student: Bob] Filter to only include itemsets with 2+ items\u001b[39;00m\n\u001b[1;32m      6\u001b[0m \u001b[38;5;66;03m# (This is redundant with min_len=2 but good for demonstration)\u001b[39;00m\n\u001b[1;32m      7\u001b[0m frequent_itemsets \u001b[38;5;241m=\u001b[39m frequent_itemsets[frequent_itemsets[\u001b[38;5;124m'\u001b[39m\u001b[38;5;124mitemsets\u001b[39m\u001b[38;5;124m'\u001b[39m]\u001b[38;5;241m.\u001b[39mapply(\u001b[38;5;28mlen\u001b[39m) \u001b[38;5;241m>\u001b[39m\u001b[38;5;241m=\u001b[39m \u001b[38;5;241m2\u001b[39m]\n",
      "\u001b[0;31mTypeError\u001b[0m: apriori() got an unexpected keyword argument 'min_len'"
     ]
    }
   ],
   "source": [
    "\n",
    "# We'll set min_len=2 to only get itemsets with 2+ items\n",
    "frequent_itemsets = apriori(one_hot_df, min_support=0.05, use_colnames=True, min_len=2)\n",
    "\n",
    "# [Student: Bob] Filter to only include itemsets with 2+ items\n",
    "# (This is redundant with min_len=2 but good for demonstration)\n",
    "frequent_itemsets = frequent_itemsets[frequent_itemsets['itemsets'].apply(len) >= 2]\n",
    "\n",
    "# [Student: Carol] Sort by support and get top 10\n",
    "frequent_itemsets = frequent_itemsets.sort_values('support', ascending=False)\n",
    "top_10_itemsets = frequent_itemsets.head(10)\n",
    "\n",
    "# [Student: Alice] Save frequent itemsets to CSV\n",
    "frequent_itemsets.to_csv('data/frequent_itemsets.csv', index=False)\n",
    "\n",
    "print(\"Top 10 Frequent Itemsets (2+ items):\")\n",
    "print(top_10_itemsets)"
   ]
  },
  {
   "cell_type": "code",
   "execution_count": null,
   "id": "1168cac4",
   "metadata": {},
   "outputs": [],
   "source": []
  },
  {
   "cell_type": "markdown",
   "id": "69ef5a44",
   "metadata": {},
   "source": []
  }
 ],
 "metadata": {
  "kernelspec": {
   "display_name": "base",
   "language": "python",
   "name": "python3"
  },
  "language_info": {
   "codemirror_mode": {
    "name": "ipython",
    "version": 3
   },
   "file_extension": ".py",
   "mimetype": "text/x-python",
   "name": "python",
   "nbconvert_exporter": "python",
   "pygments_lexer": "ipython3",
   "version": "3.11.5"
  }
 },
 "nbformat": 4,
 "nbformat_minor": 5
}
