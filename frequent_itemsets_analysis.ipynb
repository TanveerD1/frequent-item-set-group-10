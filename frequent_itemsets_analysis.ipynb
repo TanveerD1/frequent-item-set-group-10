{
 "cells": [
  {
   "cell_type": "markdown",
   "id": "9ecd047f",
   "metadata": {},
   "source": [
    "# Frequent Itemset Analysis\n",
    "Frequent itemset analysis is a data mining technique used to discover patterns or associations between items in large datasets. It is commonly applied in market basket analysis, where the qoal is to find sets of items that frequently co-occur in transactions."
   ]
  },
  {
   "cell_type": "code",
   "execution_count": null,
   "id": "6bbd7f2d",
   "metadata": {},
   "outputs": [],
   "source": [
    "# Importing libraries\n",
    "import pandas as pd\n",
    "import random\n",
    "import os\n",
    "from mlxtend.preprocessing import TransactionEncoder\n",
    "from mlxtend.frequent_patterns import apriori"
   ]
  },
  {
   "cell_type": "markdown",
   "id": "cf8730d4",
   "metadata": {},
   "source": [
    "To perform frequent itemset analysis, we will first need to simulate a dataset of transactions. This dataset will consist of multiple transactions, each containing a list of items purchased together. We will then apply the Apriori algorithm to identify frequent itemsets based on a specified minimum support threshold."
   ]
  },
  {
   "cell_type": "markdown",
   "id": "43ed5874",
   "metadata": {},
   "source": [
    "## Simulating Transaction Data\n",
    "\n"
   ]
  },
  {
   "cell_type": "code",
   "execution_count": null,
   "id": "33bf1cb0",
   "metadata": {},
   "outputs": [
    {
     "data": {
      "application/vnd.microsoft.datawrangler.viewer.v0+json": {
       "columns": [
        {
         "name": "index",
         "rawType": "int64",
         "type": "integer"
        },
        {
         "name": "0",
         "rawType": "object",
         "type": "string"
        },
        {
         "name": "1",
         "rawType": "object",
         "type": "string"
        },
        {
         "name": "2",
         "rawType": "object",
         "type": "string"
        },
        {
         "name": "3",
         "rawType": "object",
         "type": "string"
        },
        {
         "name": "4",
         "rawType": "object",
         "type": "unknown"
        },
        {
         "name": "5",
         "rawType": "object",
         "type": "unknown"
        },
        {
         "name": "6",
         "rawType": "object",
         "type": "unknown"
        }
       ],
       "ref": "ca9299de-fb1d-49f6-a7d0-8cede6f10c12",
       "rows": [
        [
         "0",
         "bread",
         "eggs",
         "chocolate",
         "apples",
         "butter",
         "cereal",
         "flour"
        ],
        [
         "1",
         "toothpaste",
         "soap",
         "chocolate",
         "carrots",
         null,
         null,
         null
        ],
        [
         "2",
         "pepper",
         "cookies",
         "salt",
         "potatoes",
         "tomatoes",
         null,
         null
        ],
        [
         "3",
         "carrots",
         "chocolate",
         "pepper",
         "cheese",
         null,
         null,
         null
        ],
        [
         "4",
         "sugar",
         "butter",
         "salt",
         "pasta",
         "cheese",
         null,
         null
        ]
       ],
       "shape": {
        "columns": 7,
        "rows": 5
       }
      },
      "text/html": [
       "<div>\n",
       "<style scoped>\n",
       "    .dataframe tbody tr th:only-of-type {\n",
       "        vertical-align: middle;\n",
       "    }\n",
       "\n",
       "    .dataframe tbody tr th {\n",
       "        vertical-align: top;\n",
       "    }\n",
       "\n",
       "    .dataframe thead th {\n",
       "        text-align: right;\n",
       "    }\n",
       "</style>\n",
       "<table border=\"1\" class=\"dataframe\">\n",
       "  <thead>\n",
       "    <tr style=\"text-align: right;\">\n",
       "      <th></th>\n",
       "      <th>0</th>\n",
       "      <th>1</th>\n",
       "      <th>2</th>\n",
       "      <th>3</th>\n",
       "      <th>4</th>\n",
       "      <th>5</th>\n",
       "      <th>6</th>\n",
       "    </tr>\n",
       "  </thead>\n",
       "  <tbody>\n",
       "    <tr>\n",
       "      <th>0</th>\n",
       "      <td>bread</td>\n",
       "      <td>eggs</td>\n",
       "      <td>chocolate</td>\n",
       "      <td>apples</td>\n",
       "      <td>butter</td>\n",
       "      <td>cereal</td>\n",
       "      <td>flour</td>\n",
       "    </tr>\n",
       "    <tr>\n",
       "      <th>1</th>\n",
       "      <td>toothpaste</td>\n",
       "      <td>soap</td>\n",
       "      <td>chocolate</td>\n",
       "      <td>carrots</td>\n",
       "      <td>None</td>\n",
       "      <td>None</td>\n",
       "      <td>None</td>\n",
       "    </tr>\n",
       "    <tr>\n",
       "      <th>2</th>\n",
       "      <td>pepper</td>\n",
       "      <td>cookies</td>\n",
       "      <td>salt</td>\n",
       "      <td>potatoes</td>\n",
       "      <td>tomatoes</td>\n",
       "      <td>None</td>\n",
       "      <td>None</td>\n",
       "    </tr>\n",
       "    <tr>\n",
       "      <th>3</th>\n",
       "      <td>carrots</td>\n",
       "      <td>chocolate</td>\n",
       "      <td>pepper</td>\n",
       "      <td>cheese</td>\n",
       "      <td>None</td>\n",
       "      <td>None</td>\n",
       "      <td>None</td>\n",
       "    </tr>\n",
       "    <tr>\n",
       "      <th>4</th>\n",
       "      <td>sugar</td>\n",
       "      <td>butter</td>\n",
       "      <td>salt</td>\n",
       "      <td>pasta</td>\n",
       "      <td>cheese</td>\n",
       "      <td>None</td>\n",
       "      <td>None</td>\n",
       "    </tr>\n",
       "  </tbody>\n",
       "</table>\n",
       "</div>"
      ],
      "text/plain": [
       "            0          1          2         3         4       5      6\n",
       "0       bread       eggs  chocolate    apples    butter  cereal  flour\n",
       "1  toothpaste       soap  chocolate   carrots      None    None   None\n",
       "2      pepper    cookies       salt  potatoes  tomatoes    None   None\n",
       "3     carrots  chocolate     pepper    cheese      None    None   None\n",
       "4       sugar     butter       salt     pasta    cheese    None   None"
      ]
     },
     "metadata": {},
     "output_type": "display_data"
    }
   ],
   "source": [
    "#[Patricia] Pool of 30 Supermarket Items\n",
    "items = [\n",
    "    \"milk\", \"bread\", \"butter\", \"eggs\", \"cheese\", \"apples\", \"bananas\", \"chicken\", \"beef\", \"pasta\",\n",
    "    \"rice\", \"flour\", \"sugar\", \"salt\", \"pepper\", \"onions\", \"tomatoes\", \"carrots\", \"potatoes\", \"cereal\",\n",
    "    \"oil\", \"juice\", \"yogurt\", \"tea\", \"coffee\", \"chocolate\", \"cookies\", \"soap\", \"shampoo\", \"toothpaste\"\n",
    "]\n",
    "\n",
    "#[Suezan]Set a random seed for reproducibility of the transaction generation\n",
    "random.seed(69)\n",
    "#[Suezan] Initialize an empty list to store the generated transactions\n",
    "transactions = []\n",
    "#[Suezan Loop 3000 times to generate 3000 transactions\n",
    "for _ in range(3000):\n",
    "#[Suezan] Randomly select the number of items for the current transaction (between 2 and 7)\n",
    "    num_items = random.randint(2, 7)\n",
    "    # Randomly select 'num_items' unique items from the 'items' pool for the current transaction\n",
    "    transaction = random.sample(items, num_items)\n",
    "    # Adding the generated transaction to the list of all transactions\n",
    "    transactions.append(transaction)\n",
    "\n",
    "#[Arlen] Convert the list of transactions into a Pandas DataFrame\n",
    "transactions_df = pd.DataFrame(transactions)\n",
    "#[Arlen] Create the 'data' directory if it doesn't exist to store output files\n",
    "os.makedirs('data', exist_ok=True)\n",
    "#[Arlen] Save the raw transactions DataFrame to a CSV file without the index\n",
    "transactions_df.to_csv('data/supermarket_transactions.csv', index=False)\n",
    "\n",
    "# Display\n",
    "transactions_df.head()"
   ]
  },
  {
   "cell_type": "markdown",
   "id": "f364e34e",
   "metadata": {},
   "source": [
    "## 2. Preprocessing Data: Using One-Hot Encoding"
   ]
  },
  {
   "cell_type": "code",
   "execution_count": null,
   "id": "9ee4af6d",
   "metadata": {},
   "outputs": [
    {
     "data": {
      "application/vnd.microsoft.datawrangler.viewer.v0+json": {
       "columns": [
        {
         "name": "index",
         "rawType": "int64",
         "type": "integer"
        },
        {
         "name": "apples",
         "rawType": "bool",
         "type": "boolean"
        },
        {
         "name": "bananas",
         "rawType": "bool",
         "type": "boolean"
        },
        {
         "name": "beef",
         "rawType": "bool",
         "type": "boolean"
        },
        {
         "name": "bread",
         "rawType": "bool",
         "type": "boolean"
        },
        {
         "name": "butter",
         "rawType": "bool",
         "type": "boolean"
        },
        {
         "name": "carrots",
         "rawType": "bool",
         "type": "boolean"
        },
        {
         "name": "cereal",
         "rawType": "bool",
         "type": "boolean"
        },
        {
         "name": "cheese",
         "rawType": "bool",
         "type": "boolean"
        },
        {
         "name": "chicken",
         "rawType": "bool",
         "type": "boolean"
        },
        {
         "name": "chocolate",
         "rawType": "bool",
         "type": "boolean"
        },
        {
         "name": "coffee",
         "rawType": "bool",
         "type": "boolean"
        },
        {
         "name": "cookies",
         "rawType": "bool",
         "type": "boolean"
        },
        {
         "name": "eggs",
         "rawType": "bool",
         "type": "boolean"
        },
        {
         "name": "flour",
         "rawType": "bool",
         "type": "boolean"
        },
        {
         "name": "juice",
         "rawType": "bool",
         "type": "boolean"
        },
        {
         "name": "milk",
         "rawType": "bool",
         "type": "boolean"
        },
        {
         "name": "oil",
         "rawType": "bool",
         "type": "boolean"
        },
        {
         "name": "onions",
         "rawType": "bool",
         "type": "boolean"
        },
        {
         "name": "pasta",
         "rawType": "bool",
         "type": "boolean"
        },
        {
         "name": "pepper",
         "rawType": "bool",
         "type": "boolean"
        },
        {
         "name": "potatoes",
         "rawType": "bool",
         "type": "boolean"
        },
        {
         "name": "rice",
         "rawType": "bool",
         "type": "boolean"
        },
        {
         "name": "salt",
         "rawType": "bool",
         "type": "boolean"
        },
        {
         "name": "shampoo",
         "rawType": "bool",
         "type": "boolean"
        },
        {
         "name": "soap",
         "rawType": "bool",
         "type": "boolean"
        },
        {
         "name": "sugar",
         "rawType": "bool",
         "type": "boolean"
        },
        {
         "name": "tea",
         "rawType": "bool",
         "type": "boolean"
        },
        {
         "name": "tomatoes",
         "rawType": "bool",
         "type": "boolean"
        },
        {
         "name": "toothpaste",
         "rawType": "bool",
         "type": "boolean"
        },
        {
         "name": "yogurt",
         "rawType": "bool",
         "type": "boolean"
        }
       ],
       "ref": "58843552-90fc-41f8-b4c0-4b02d1817465",
       "rows": [
        [
         "0",
         "True",
         "False",
         "False",
         "True",
         "True",
         "False",
         "True",
         "False",
         "False",
         "True",
         "False",
         "False",
         "True",
         "True",
         "False",
         "False",
         "False",
         "False",
         "False",
         "False",
         "False",
         "False",
         "False",
         "False",
         "False",
         "False",
         "False",
         "False",
         "False",
         "False"
        ],
        [
         "1",
         "False",
         "False",
         "False",
         "False",
         "False",
         "True",
         "False",
         "False",
         "False",
         "True",
         "False",
         "False",
         "False",
         "False",
         "False",
         "False",
         "False",
         "False",
         "False",
         "False",
         "False",
         "False",
         "False",
         "False",
         "True",
         "False",
         "False",
         "False",
         "True",
         "False"
        ],
        [
         "2",
         "False",
         "False",
         "False",
         "False",
         "False",
         "False",
         "False",
         "False",
         "False",
         "False",
         "False",
         "True",
         "False",
         "False",
         "False",
         "False",
         "False",
         "False",
         "False",
         "True",
         "True",
         "False",
         "True",
         "False",
         "False",
         "False",
         "False",
         "True",
         "False",
         "False"
        ],
        [
         "3",
         "False",
         "False",
         "False",
         "False",
         "False",
         "True",
         "False",
         "True",
         "False",
         "True",
         "False",
         "False",
         "False",
         "False",
         "False",
         "False",
         "False",
         "False",
         "False",
         "True",
         "False",
         "False",
         "False",
         "False",
         "False",
         "False",
         "False",
         "False",
         "False",
         "False"
        ],
        [
         "4",
         "False",
         "False",
         "False",
         "False",
         "True",
         "False",
         "False",
         "True",
         "False",
         "False",
         "False",
         "False",
         "False",
         "False",
         "False",
         "False",
         "False",
         "False",
         "True",
         "False",
         "False",
         "False",
         "True",
         "False",
         "False",
         "True",
         "False",
         "False",
         "False",
         "False"
        ]
       ],
       "shape": {
        "columns": 30,
        "rows": 5
       }
      },
      "text/html": [
       "<div>\n",
       "<style scoped>\n",
       "    .dataframe tbody tr th:only-of-type {\n",
       "        vertical-align: middle;\n",
       "    }\n",
       "\n",
       "    .dataframe tbody tr th {\n",
       "        vertical-align: top;\n",
       "    }\n",
       "\n",
       "    .dataframe thead th {\n",
       "        text-align: right;\n",
       "    }\n",
       "</style>\n",
       "<table border=\"1\" class=\"dataframe\">\n",
       "  <thead>\n",
       "    <tr style=\"text-align: right;\">\n",
       "      <th></th>\n",
       "      <th>apples</th>\n",
       "      <th>bananas</th>\n",
       "      <th>beef</th>\n",
       "      <th>bread</th>\n",
       "      <th>butter</th>\n",
       "      <th>carrots</th>\n",
       "      <th>cereal</th>\n",
       "      <th>cheese</th>\n",
       "      <th>chicken</th>\n",
       "      <th>chocolate</th>\n",
       "      <th>...</th>\n",
       "      <th>potatoes</th>\n",
       "      <th>rice</th>\n",
       "      <th>salt</th>\n",
       "      <th>shampoo</th>\n",
       "      <th>soap</th>\n",
       "      <th>sugar</th>\n",
       "      <th>tea</th>\n",
       "      <th>tomatoes</th>\n",
       "      <th>toothpaste</th>\n",
       "      <th>yogurt</th>\n",
       "    </tr>\n",
       "  </thead>\n",
       "  <tbody>\n",
       "    <tr>\n",
       "      <th>0</th>\n",
       "      <td>True</td>\n",
       "      <td>False</td>\n",
       "      <td>False</td>\n",
       "      <td>True</td>\n",
       "      <td>True</td>\n",
       "      <td>False</td>\n",
       "      <td>True</td>\n",
       "      <td>False</td>\n",
       "      <td>False</td>\n",
       "      <td>True</td>\n",
       "      <td>...</td>\n",
       "      <td>False</td>\n",
       "      <td>False</td>\n",
       "      <td>False</td>\n",
       "      <td>False</td>\n",
       "      <td>False</td>\n",
       "      <td>False</td>\n",
       "      <td>False</td>\n",
       "      <td>False</td>\n",
       "      <td>False</td>\n",
       "      <td>False</td>\n",
       "    </tr>\n",
       "    <tr>\n",
       "      <th>1</th>\n",
       "      <td>False</td>\n",
       "      <td>False</td>\n",
       "      <td>False</td>\n",
       "      <td>False</td>\n",
       "      <td>False</td>\n",
       "      <td>True</td>\n",
       "      <td>False</td>\n",
       "      <td>False</td>\n",
       "      <td>False</td>\n",
       "      <td>True</td>\n",
       "      <td>...</td>\n",
       "      <td>False</td>\n",
       "      <td>False</td>\n",
       "      <td>False</td>\n",
       "      <td>False</td>\n",
       "      <td>True</td>\n",
       "      <td>False</td>\n",
       "      <td>False</td>\n",
       "      <td>False</td>\n",
       "      <td>True</td>\n",
       "      <td>False</td>\n",
       "    </tr>\n",
       "    <tr>\n",
       "      <th>2</th>\n",
       "      <td>False</td>\n",
       "      <td>False</td>\n",
       "      <td>False</td>\n",
       "      <td>False</td>\n",
       "      <td>False</td>\n",
       "      <td>False</td>\n",
       "      <td>False</td>\n",
       "      <td>False</td>\n",
       "      <td>False</td>\n",
       "      <td>False</td>\n",
       "      <td>...</td>\n",
       "      <td>True</td>\n",
       "      <td>False</td>\n",
       "      <td>True</td>\n",
       "      <td>False</td>\n",
       "      <td>False</td>\n",
       "      <td>False</td>\n",
       "      <td>False</td>\n",
       "      <td>True</td>\n",
       "      <td>False</td>\n",
       "      <td>False</td>\n",
       "    </tr>\n",
       "    <tr>\n",
       "      <th>3</th>\n",
       "      <td>False</td>\n",
       "      <td>False</td>\n",
       "      <td>False</td>\n",
       "      <td>False</td>\n",
       "      <td>False</td>\n",
       "      <td>True</td>\n",
       "      <td>False</td>\n",
       "      <td>True</td>\n",
       "      <td>False</td>\n",
       "      <td>True</td>\n",
       "      <td>...</td>\n",
       "      <td>False</td>\n",
       "      <td>False</td>\n",
       "      <td>False</td>\n",
       "      <td>False</td>\n",
       "      <td>False</td>\n",
       "      <td>False</td>\n",
       "      <td>False</td>\n",
       "      <td>False</td>\n",
       "      <td>False</td>\n",
       "      <td>False</td>\n",
       "    </tr>\n",
       "    <tr>\n",
       "      <th>4</th>\n",
       "      <td>False</td>\n",
       "      <td>False</td>\n",
       "      <td>False</td>\n",
       "      <td>False</td>\n",
       "      <td>True</td>\n",
       "      <td>False</td>\n",
       "      <td>False</td>\n",
       "      <td>True</td>\n",
       "      <td>False</td>\n",
       "      <td>False</td>\n",
       "      <td>...</td>\n",
       "      <td>False</td>\n",
       "      <td>False</td>\n",
       "      <td>True</td>\n",
       "      <td>False</td>\n",
       "      <td>False</td>\n",
       "      <td>True</td>\n",
       "      <td>False</td>\n",
       "      <td>False</td>\n",
       "      <td>False</td>\n",
       "      <td>False</td>\n",
       "    </tr>\n",
       "  </tbody>\n",
       "</table>\n",
       "<p>5 rows × 30 columns</p>\n",
       "</div>"
      ],
      "text/plain": [
       "   apples  bananas   beef  bread  butter  carrots  cereal  cheese  chicken  \\\n",
       "0    True    False  False   True    True    False    True   False    False   \n",
       "1   False    False  False  False   False     True   False   False    False   \n",
       "2   False    False  False  False   False    False   False   False    False   \n",
       "3   False    False  False  False   False     True   False    True    False   \n",
       "4   False    False  False  False    True    False   False    True    False   \n",
       "\n",
       "   chocolate  ...  potatoes   rice   salt  shampoo   soap  sugar    tea  \\\n",
       "0       True  ...     False  False  False    False  False  False  False   \n",
       "1       True  ...     False  False  False    False   True  False  False   \n",
       "2      False  ...      True  False   True    False  False  False  False   \n",
       "3       True  ...     False  False  False    False  False  False  False   \n",
       "4      False  ...     False  False   True    False  False   True  False   \n",
       "\n",
       "   tomatoes  toothpaste  yogurt  \n",
       "0     False       False   False  \n",
       "1     False        True   False  \n",
       "2      True       False   False  \n",
       "3     False       False   False  \n",
       "4     False       False   False  \n",
       "\n",
       "[5 rows x 30 columns]"
      ]
     },
     "metadata": {},
     "output_type": "display_data"
    }
   ],
   "source": [
    "#[Calvin] Initialize the TransactionEncoder\n",
    "encoder = TransactionEncoder()\n",
    "#[Calvin]  Fit the encoder to the transactions and transform them into a one-hot encoded array\n",
    "encoded_array = encoder.fit_transform(transactions)\n",
    "#[Calvin]  Convert the one-hot encoded array into a Pandas DataFrame, using item names as column headers\n",
    "onehot_df = pd.DataFrame(encoded_array, columns=encoder.columns_)\n",
    "onehot_df.head()"
   ]
  },
  {
   "cell_type": "markdown",
   "id": "555e17da",
   "metadata": {},
   "source": [
    "## 3. Generating Frequent Itemsets with Apriori from the previous Week"
   ]
  },
  {
   "cell_type": "code",
   "execution_count": null,
   "id": "f1a2cc51",
   "metadata": {},
   "outputs": [],
   "source": [
    "#[Samantha] Apply the Apriori algorithm to find frequent itemsets with a minimum support of 0.05\n",
    "#[Samantha] 'use_colnames=True' ensures that item names are used instead of column indices\n",
    "frequent_itemsets = apriori(onehot_df, min_support=0.05, use_colnames=True)\n",
    "#[Samantha] Add a 'length' column to the DataFrame, representing the number of items in each itemset\n",
    "frequent_itemsets['length'] = frequent_itemsets['itemsets'].apply(lambda x: len(x))"
   ]
  },
  {
   "cell_type": "markdown",
   "id": "6f07ccf9",
   "metadata": {},
   "source": [
    "#### Saving the topn 10 frequent itemsets to CSV"
   ]
  },
  {
   "cell_type": "code",
   "execution_count": null,
   "id": "5ff4e4b6",
   "metadata": {},
   "outputs": [
    {
     "name": "stdout",
     "output_type": "stream",
     "text": [
      "     support     itemsets  length\n",
      "6   0.162000     (cereal)       1\n",
      "3   0.159667      (bread)       1\n",
      "26  0.159333        (tea)       1\n",
      "27  0.158667   (tomatoes)       1\n",
      "2   0.156667       (beef)       1\n",
      "1   0.155000    (bananas)       1\n",
      "19  0.154000     (pepper)       1\n",
      "9   0.153333  (chocolate)       1\n",
      "5   0.152333    (carrots)       1\n",
      "18  0.152000      (pasta)       1\n"
     ]
    }
   ],
   "source": [
    "#[Calvin] Sort frequent itemsets by support in descending order and display the top 10\n",
    "print(frequent_itemsets.sort_values(by='support', ascending=False).head(10))\n",
    "#[Calvin] Save all frequent itemsets (not just filtered by length) to a CSV file\n",
    "#[Calvin] This ensures all discovered frequent itemsets are recorded.\n",
    "frequent_itemsets.to_csv('data/frequent_itemsets.csv', index=False)"
   ]
  },
  {
   "cell_type": "markdown",
   "id": "d4ada6b8",
   "metadata": {},
   "source": [
    "#### Closed Itemsets\n"
   ]
  },
  {
   "cell_type": "code",
   "execution_count": null,
   "id": "3b7b24c1",
   "metadata": {},
   "outputs": [
    {
     "data": {
      "application/vnd.microsoft.datawrangler.viewer.v0+json": {
       "columns": [
        {
         "name": "index",
         "rawType": "int64",
         "type": "integer"
        },
        {
         "name": "support",
         "rawType": "float64",
         "type": "float"
        },
        {
         "name": "itemsets",
         "rawType": "object",
         "type": "unknown"
        },
        {
         "name": "length",
         "rawType": "int64",
         "type": "integer"
        }
       ],
       "ref": "cf04bf2a-956c-456c-b905-33237f90a018",
       "rows": [
        [
         "0",
         "0.14733333333333334",
         "frozenset({'apples'})",
         "1"
        ],
        [
         "1",
         "0.155",
         "frozenset({'bananas'})",
         "1"
        ],
        [
         "2",
         "0.15666666666666668",
         "frozenset({'beef'})",
         "1"
        ],
        [
         "3",
         "0.15966666666666668",
         "frozenset({'bread'})",
         "1"
        ],
        [
         "4",
         "0.144",
         "frozenset({'butter'})",
         "1"
        ],
        [
         "5",
         "0.15233333333333332",
         "frozenset({'carrots'})",
         "1"
        ],
        [
         "6",
         "0.162",
         "frozenset({'cereal'})",
         "1"
        ],
        [
         "7",
         "0.14833333333333334",
         "frozenset({'cheese'})",
         "1"
        ],
        [
         "8",
         "0.143",
         "frozenset({'chicken'})",
         "1"
        ],
        [
         "9",
         "0.15333333333333332",
         "frozenset({'chocolate'})",
         "1"
        ]
       ],
       "shape": {
        "columns": 3,
        "rows": 10
       }
      },
      "text/html": [
       "<div>\n",
       "<style scoped>\n",
       "    .dataframe tbody tr th:only-of-type {\n",
       "        vertical-align: middle;\n",
       "    }\n",
       "\n",
       "    .dataframe tbody tr th {\n",
       "        vertical-align: top;\n",
       "    }\n",
       "\n",
       "    .dataframe thead th {\n",
       "        text-align: right;\n",
       "    }\n",
       "</style>\n",
       "<table border=\"1\" class=\"dataframe\">\n",
       "  <thead>\n",
       "    <tr style=\"text-align: right;\">\n",
       "      <th></th>\n",
       "      <th>support</th>\n",
       "      <th>itemsets</th>\n",
       "      <th>length</th>\n",
       "    </tr>\n",
       "  </thead>\n",
       "  <tbody>\n",
       "    <tr>\n",
       "      <th>0</th>\n",
       "      <td>0.147333</td>\n",
       "      <td>(apples)</td>\n",
       "      <td>1</td>\n",
       "    </tr>\n",
       "    <tr>\n",
       "      <th>1</th>\n",
       "      <td>0.155000</td>\n",
       "      <td>(bananas)</td>\n",
       "      <td>1</td>\n",
       "    </tr>\n",
       "    <tr>\n",
       "      <th>2</th>\n",
       "      <td>0.156667</td>\n",
       "      <td>(beef)</td>\n",
       "      <td>1</td>\n",
       "    </tr>\n",
       "    <tr>\n",
       "      <th>3</th>\n",
       "      <td>0.159667</td>\n",
       "      <td>(bread)</td>\n",
       "      <td>1</td>\n",
       "    </tr>\n",
       "    <tr>\n",
       "      <th>4</th>\n",
       "      <td>0.144000</td>\n",
       "      <td>(butter)</td>\n",
       "      <td>1</td>\n",
       "    </tr>\n",
       "    <tr>\n",
       "      <th>5</th>\n",
       "      <td>0.152333</td>\n",
       "      <td>(carrots)</td>\n",
       "      <td>1</td>\n",
       "    </tr>\n",
       "    <tr>\n",
       "      <th>6</th>\n",
       "      <td>0.162000</td>\n",
       "      <td>(cereal)</td>\n",
       "      <td>1</td>\n",
       "    </tr>\n",
       "    <tr>\n",
       "      <th>7</th>\n",
       "      <td>0.148333</td>\n",
       "      <td>(cheese)</td>\n",
       "      <td>1</td>\n",
       "    </tr>\n",
       "    <tr>\n",
       "      <th>8</th>\n",
       "      <td>0.143000</td>\n",
       "      <td>(chicken)</td>\n",
       "      <td>1</td>\n",
       "    </tr>\n",
       "    <tr>\n",
       "      <th>9</th>\n",
       "      <td>0.153333</td>\n",
       "      <td>(chocolate)</td>\n",
       "      <td>1</td>\n",
       "    </tr>\n",
       "  </tbody>\n",
       "</table>\n",
       "</div>"
      ],
      "text/plain": [
       "    support     itemsets  length\n",
       "0  0.147333     (apples)       1\n",
       "1  0.155000    (bananas)       1\n",
       "2  0.156667       (beef)       1\n",
       "3  0.159667      (bread)       1\n",
       "4  0.144000     (butter)       1\n",
       "5  0.152333    (carrots)       1\n",
       "6  0.162000     (cereal)       1\n",
       "7  0.148333     (cheese)       1\n",
       "8  0.143000    (chicken)       1\n",
       "9  0.153333  (chocolate)       1"
      ]
     },
     "metadata": {},
     "output_type": "display_data"
    }
   ],
   "source": [
    "#[Tanveer] Create a copy of frequent itemsets to identify closed itemsets\n",
    "closed_itemsets = frequent_itemsets.copy()\n",
    "#[Tanveer] Initialize a boolean mask to mark closed itemsets\n",
    "closed_mask = []\n",
    "\n",
    "#[Tanveer] Iterate through each frequent itemset to check if it's closed\n",
    "for i, row in closed_itemsets.iterrows():\n",
    "    #  Assume the current itemset is closed until proven otherwise\n",
    "    is_closed = True\n",
    "    # Iterate through all other frequent itemsets to find supersets\n",
    "    for j, other_row in frequent_itemsets.iterrows():\n",
    "        # Check if 'row' is a subset of 'other_row' (i.e., 'other_row' is a superset of 'row')\n",
    "        # And if they have the exact same support value\n",
    "        if row['itemsets'] < other_row['itemsets'] and row['support'] == other_row['support']:\n",
    "            # If such a superset with the same support exists, the current itemset is NOT closed\n",
    "            is_closed = False\n",
    "            # No need to check further supersets for this 'row', break the inner loop\n",
    "            break\n",
    "    # Append the determination (True/False) for the current itemset to the mask\n",
    "    closed_mask.append(is_closed)\n",
    "\n",
    "#[Tanveer] Filter the closed_itemsets DataFrame using the generated mask\n",
    "closed_itemsets = closed_itemsets[closed_mask]\n",
    "#[Tanveer] Save the identified closed itemsets to a CSV file\n",
    "closed_itemsets.to_csv(\"data/closed_itemsets.csv\", index=False)\n",
    "#[Tanveer] Display the closed itemsets DataFrame\n",
    "closed_itemsets.head(10)"
   ]
  },
  {
   "cell_type": "markdown",
   "id": "48b1414a",
   "metadata": {},
   "source": [
    "#### Maximal Itemsets"
   ]
  },
  {
   "cell_type": "code",
   "execution_count": null,
   "id": "e0972681",
   "metadata": {},
   "outputs": [
    {
     "data": {
      "application/vnd.microsoft.datawrangler.viewer.v0+json": {
       "columns": [
        {
         "name": "index",
         "rawType": "int64",
         "type": "integer"
        },
        {
         "name": "support",
         "rawType": "float64",
         "type": "float"
        },
        {
         "name": "itemsets",
         "rawType": "object",
         "type": "unknown"
        },
        {
         "name": "length",
         "rawType": "int64",
         "type": "integer"
        }
       ],
       "ref": "8464c447-63b0-4cdd-a4ad-56483c0099cb",
       "rows": [
        [
         "0",
         "0.14733333333333334",
         "frozenset({'apples'})",
         "1"
        ],
        [
         "1",
         "0.155",
         "frozenset({'bananas'})",
         "1"
        ],
        [
         "2",
         "0.15666666666666668",
         "frozenset({'beef'})",
         "1"
        ],
        [
         "3",
         "0.15966666666666668",
         "frozenset({'bread'})",
         "1"
        ],
        [
         "4",
         "0.144",
         "frozenset({'butter'})",
         "1"
        ],
        [
         "5",
         "0.15233333333333332",
         "frozenset({'carrots'})",
         "1"
        ],
        [
         "6",
         "0.162",
         "frozenset({'cereal'})",
         "1"
        ],
        [
         "7",
         "0.14833333333333334",
         "frozenset({'cheese'})",
         "1"
        ],
        [
         "8",
         "0.143",
         "frozenset({'chicken'})",
         "1"
        ],
        [
         "9",
         "0.15333333333333332",
         "frozenset({'chocolate'})",
         "1"
        ]
       ],
       "shape": {
        "columns": 3,
        "rows": 10
       }
      },
      "text/html": [
       "<div>\n",
       "<style scoped>\n",
       "    .dataframe tbody tr th:only-of-type {\n",
       "        vertical-align: middle;\n",
       "    }\n",
       "\n",
       "    .dataframe tbody tr th {\n",
       "        vertical-align: top;\n",
       "    }\n",
       "\n",
       "    .dataframe thead th {\n",
       "        text-align: right;\n",
       "    }\n",
       "</style>\n",
       "<table border=\"1\" class=\"dataframe\">\n",
       "  <thead>\n",
       "    <tr style=\"text-align: right;\">\n",
       "      <th></th>\n",
       "      <th>support</th>\n",
       "      <th>itemsets</th>\n",
       "      <th>length</th>\n",
       "    </tr>\n",
       "  </thead>\n",
       "  <tbody>\n",
       "    <tr>\n",
       "      <th>0</th>\n",
       "      <td>0.147333</td>\n",
       "      <td>(apples)</td>\n",
       "      <td>1</td>\n",
       "    </tr>\n",
       "    <tr>\n",
       "      <th>1</th>\n",
       "      <td>0.155000</td>\n",
       "      <td>(bananas)</td>\n",
       "      <td>1</td>\n",
       "    </tr>\n",
       "    <tr>\n",
       "      <th>2</th>\n",
       "      <td>0.156667</td>\n",
       "      <td>(beef)</td>\n",
       "      <td>1</td>\n",
       "    </tr>\n",
       "    <tr>\n",
       "      <th>3</th>\n",
       "      <td>0.159667</td>\n",
       "      <td>(bread)</td>\n",
       "      <td>1</td>\n",
       "    </tr>\n",
       "    <tr>\n",
       "      <th>4</th>\n",
       "      <td>0.144000</td>\n",
       "      <td>(butter)</td>\n",
       "      <td>1</td>\n",
       "    </tr>\n",
       "    <tr>\n",
       "      <th>5</th>\n",
       "      <td>0.152333</td>\n",
       "      <td>(carrots)</td>\n",
       "      <td>1</td>\n",
       "    </tr>\n",
       "    <tr>\n",
       "      <th>6</th>\n",
       "      <td>0.162000</td>\n",
       "      <td>(cereal)</td>\n",
       "      <td>1</td>\n",
       "    </tr>\n",
       "    <tr>\n",
       "      <th>7</th>\n",
       "      <td>0.148333</td>\n",
       "      <td>(cheese)</td>\n",
       "      <td>1</td>\n",
       "    </tr>\n",
       "    <tr>\n",
       "      <th>8</th>\n",
       "      <td>0.143000</td>\n",
       "      <td>(chicken)</td>\n",
       "      <td>1</td>\n",
       "    </tr>\n",
       "    <tr>\n",
       "      <th>9</th>\n",
       "      <td>0.153333</td>\n",
       "      <td>(chocolate)</td>\n",
       "      <td>1</td>\n",
       "    </tr>\n",
       "  </tbody>\n",
       "</table>\n",
       "</div>"
      ],
      "text/plain": [
       "    support     itemsets  length\n",
       "0  0.147333     (apples)       1\n",
       "1  0.155000    (bananas)       1\n",
       "2  0.156667       (beef)       1\n",
       "3  0.159667      (bread)       1\n",
       "4  0.144000     (butter)       1\n",
       "5  0.152333    (carrots)       1\n",
       "6  0.162000     (cereal)       1\n",
       "7  0.148333     (cheese)       1\n",
       "8  0.143000    (chicken)       1\n",
       "9  0.153333  (chocolate)       1"
      ]
     },
     "metadata": {},
     "output_type": "display_data"
    }
   ],
   "source": [
    "#[patricia] Create a copy of frequent itemsets to identify maximal itemsets\n",
    "maximal_itemsets = frequent_itemsets.copy()\n",
    "# [patriciaInitialize a boolean mask to mark maximal itemsets\n",
    "maximal_mask = []\n",
    "\n",
    "# [Tanveer] Iterate through each frequent itemset to check if it's maximal\n",
    "for i, row in maximal_itemsets.iterrows():\n",
    "    # Assume the current itemset is maximal until proven otherwise\n",
    "    is_maximal = True\n",
    "    # Iterate through all other frequent itemsets to find supersets\n",
    "    for j, other_row in frequent_itemsets.iterrows():\n",
    "        # Check if 'row' is a subset of 'other_row' (i.e., 'other_row' is a superset of 'row')\n",
    "        # If a superset exists, the current itemset is NOT maximal\n",
    "        if row['itemsets'] < other_row['itemsets']:\n",
    "            is_maximal = False\n",
    "            # No need to check further supersets for this 'row', break the inner loop\n",
    "            break\n",
    "    # Append the determination (True/False) for the current itemset to the mask\n",
    "    maximal_mask.append(is_maximal)\n",
    "\n",
    "#[Samantha]Filter the maximal_itemsets DataFrame using the generated mask\n",
    "maximal_itemsets = maximal_itemsets[maximal_mask]\n",
    "#[Samantha] Save the identified maximal itemsets to a CSV file\n",
    "maximal_itemsets.to_csv(\"data/maximal_itemsets.csv\", index=False)\n",
    "#[Samantha] Display the maximal itemsets DataFrame\n",
    "maximal_itemsets.head(10)"
   ]
  },
  {
   "cell_type": "markdown",
   "id": "68a61416",
   "metadata": {},
   "source": [
    "* *Support*: The proportion of transactions that contain a specific itemset.\n",
    "* *Itemset*: A set of items that appear together in a transaction.\n",
    "* *Length*: Number of items in the itemset."
   ]
  },
  {
   "cell_type": "code",
   "execution_count": null,
   "id": "1a1c8d6d",
   "metadata": {},
   "outputs": [
    {
     "data": {
      "image/png": "[encoded data removed]",
      "text/plain": [
       "<Figure size 1000x600 with 1 Axes>"
      ]
     },
     "metadata": {},
     "output_type": "display_data"
    }
   ],
   "source": [
    "import matplotlib.pyplot as plt\n",
    "\n",
    "# Filter itemsets of length 1–3\n",
    "filtered = frequent_itemsets[frequent_itemsets['length'] <= 3]\n",
    "top_support = filtered.sort_values(by='support', ascending=False).head(10)\n",
    "\n",
    "# Convert frozenset to string for plotting\n",
    "top_support['itemsets_str'] = top_support['itemsets'].apply(lambda x: ', '.join(list(x)))\n",
    "\n",
    "# Bar plot\n",
    "plt.figure(figsize=(10, 6))\n",
    "plt.barh(top_support['itemsets_str'], top_support['support'], color='skyblue')\n",
    "plt.xlabel('Support')\n",
    "plt.title('Top 10 Frequent Itemsets (length ≤ 3)')\n",
    "plt.gca().invert_yaxis()\n",
    "plt.tight_layout()\n",
    "plt.show()\n"
   ]
  }
 ],
 "metadata": {
  "kernelspec": {
   "display_name": "Python 3",
   "language": "python",
   "name": "python3"
  },
  "language_info": {
   "codemirror_mode": {
    "name": "ipython",
    "version": 3
   },
   "file_extension": ".py",
   "mimetype": "text/x-python",
   "name": "python",
   "nbconvert_exporter": "python",
   "pygments_lexer": "ipython3",
   "version": "3.13.2"
  }
 },
 "nbformat": 4,
 "nbformat_minor": 5
}
