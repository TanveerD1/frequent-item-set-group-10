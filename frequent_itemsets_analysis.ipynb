{
 "cells": [
  {
   "cell_type": "markdown",
   "id": "7844b2bb",
   "metadata": {},
   "source": [
    "### Imports"
   ]
  },
  {
   "cell_type": "code",
   "execution_count": 19,
   "id": "90855b0f",
   "metadata": {},
   "outputs": [],
   "source": [
    "import pandas as pd\n",
    "import random\n",
    "import os\n",
    "from mlxtend.preprocessing import TransactionEncoder\n",
    "from mlxtend.frequent_patterns import apriori\n"
   ]
  },
  {
   "cell_type": "markdown",
   "id": "00b8abf3",
   "metadata": {},
   "source": []
  },
  {
   "cell_type": "markdown",
   "id": "53c9c99a",
   "metadata": {},
   "source": [
    "# 1. Simulating Transaction Data"
   ]
  },
  {
   "cell_type": "code",
   "execution_count": 20,
   "id": "f381621a",
   "metadata": {},
   "outputs": [],
   "source": [
    "# Pool of 30 Supermarket Items\n",
    "items = [\n",
    "    \"milk\", \"bread\", \"butter\", \"eggs\", \"cheese\", \"apples\", \"bananas\", \"chicken\", \"beef\", \"pasta\",\n",
    "    \"rice\", \"flour\", \"sugar\", \"salt\", \"pepper\", \"onions\", \"tomatoes\", \"carrots\", \"potatoes\", \"cereal\",\n",
    "    \"oil\", \"juice\", \"yogurt\", \"tea\", \"coffee\", \"chocolate\", \"cookies\", \"soap\", \"shampoo\", \"toothpaste\"\n",
    "]"
   ]
  },
  {
   "cell_type": "markdown",
   "id": "7239b527",
   "metadata": {},
   "source": [
    "### Generate Transaction Data, 3k transactions, 30 with 2-7 items each\n",
    "setting seed as 69 for reproducibility\n"
   ]
  },
  {
   "cell_type": "code",
   "execution_count": 21,
   "id": "a5b44f6e",
   "metadata": {},
   "outputs": [],
   "source": [
    "random.seed(69)\n",
    "transactions = []\n",
    "for _ in range(3000):\n",
    "    num_items = random.randint(2, 7)\n",
    "    transaction = random.sample(items_pool, num_items)\n",
    "    transactions.append(transaction)\n",
    "\n"
   ]
  },
  {
   "cell_type": "markdown",
   "id": "8ddc27bc",
   "metadata": {},
   "source": [
    "### Save raw Transactions to CSV"
   ]
  },
  {
   "cell_type": "code",
   "execution_count": 22,
   "id": "b50e9166",
   "metadata": {},
   "outputs": [],
   "source": [
    "transactions_df = pd.DataFrame(transactions)\n",
    "transactions_df.to_csv('data/supermarket_transactions.csv', index=False)\n"
   ]
  },
  {
   "cell_type": "markdown",
   "id": "45568fe7",
   "metadata": {},
   "source": [
    "# 2. Preprocessing Data: Using One-Hot Encoding"
   ]
  },
  {
   "cell_type": "code",
   "execution_count": 23,
   "id": "7cdc6f9a",
   "metadata": {},
   "outputs": [],
   "source": [
    "encoder = TransactionEncoder()\n",
    "encoded_array = encoder.fit_transform(transactions)\n",
    "onehot_df = pd.DataFrame(encoded_array, columns=encoder.columns_)"
   ]
  },
  {
   "cell_type": "markdown",
   "id": "cc2e7c33",
   "metadata": {},
   "source": [
    "# 3. Genreating Frequent Itemsets with Apriori from the previous Week"
   ]
  },
  {
   "cell_type": "code",
   "execution_count": 24,
   "id": "38f18d8a",
   "metadata": {},
   "outputs": [],
   "source": [
    "frequent_itemsets = apriori(onehot_df, min_support=0.05, use_colnames=True)\n",
    "frequent_itemsets['length'] = frequent_itemsets['itemsets'].apply(lambda x: len(x))"
   ]
  },
  {
   "cell_type": "markdown",
   "id": "f3e7de0f",
   "metadata": {},
   "source": [
    "#### Saving the topn 10 frequent itemsets to CSV"
   ]
  },
  {
   "cell_type": "code",
   "execution_count": null,
   "id": "1168cac4",
   "metadata": {},
   "outputs": [
    {
     "name": "stdout",
     "output_type": "stream",
     "text": [
      "Top 10 Frequent Itemsets:\n"
     ]
    }
   ],
   "source": [
    "print(\"Top 10 Frequent Itemsets:\")\n",
    "frequent_itemsets = frequent_itemsets[frequent_itemsets['length'] >= 2]\n",
    "frequent_itemsets.to_csv('data/frequent_itemsets.csv', index=False)\n"
   ]
  },
  {
   "cell_type": "markdown",
   "id": "69ef5a44",
   "metadata": {},
   "source": [
    "#### Closed Itemsets\n"
   ]
  },
  {
   "cell_type": "code",
   "execution_count": 30,
   "id": "d14f8ddf",
   "metadata": {},
   "outputs": [],
   "source": [
    "closed_itemsets = frequent_itemsets.copy()\n",
    "closed_mask = []\n",
    "\n",
    "for i, row in closed_itemsets.iterrows():\n",
    "    is_closed = True\n",
    "    for j, other_row in frequent_itemsets.iterrows():\n",
    "        if row['itemsets'] < other_row['itemsets'] and row['support'] == other_row['support']:\n",
    "            is_closed = False\n",
    "            break\n",
    "    closed_mask.append(is_closed)\n",
    "\n",
    "closed_itemsets = closed_itemsets[closed_mask]\n",
    "closed_itemsets.to_csv(\"data/closed_itemsets.csv\", index=False)"
   ]
  },
  {
   "cell_type": "markdown",
   "id": "b6dd06ac",
   "metadata": {},
   "source": [
    "#### Maximal Itemsets"
   ]
  },
  {
   "cell_type": "code",
   "execution_count": 31,
   "id": "a6bd68d9",
   "metadata": {},
   "outputs": [],
   "source": [
    "maximal_itemsets = frequent_itemsets.copy()\n",
    "maximal_mask = []\n",
    "\n",
    "for i, row in maximal_itemsets.iterrows():\n",
    "    is_maximal = True\n",
    "    for j, other_row in frequent_itemsets.iterrows():\n",
    "        if row['itemsets'] < other_row['itemsets']:\n",
    "            is_maximal = False\n",
    "            break\n",
    "    maximal_mask.append(is_maximal)\n",
    "\n",
    "maximal_itemsets = maximal_itemsets[maximal_mask]\n",
    "maximal_itemsets.to_csv(\"data/maximal_itemsets.csv\", index=False)"
   ]
  },
  {
   "cell_type": "markdown",
   "id": "815da974",
   "metadata": {},
   "source": []
  }
 ],
 "metadata": {
  "kernelspec": {
   "display_name": "base",
   "language": "python",
   "name": "python3"
  },
  "language_info": {
   "codemirror_mode": {
    "name": "ipython",
    "version": 3
   },
   "file_extension": ".py",
   "mimetype": "text/x-python",
   "name": "python",
   "nbconvert_exporter": "python",
   "pygments_lexer": "ipython3",
   "version": "3.11.5"
  }
 },
 "nbformat": 4,
 "nbformat_minor": 5
}
